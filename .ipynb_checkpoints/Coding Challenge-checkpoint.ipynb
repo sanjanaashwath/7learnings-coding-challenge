{
 "cells": [
  {
   "cell_type": "markdown",
   "metadata": {},
   "source": [
    "\n",
    "# 7Learnings Data Scientist Challenge – Snowfall Prediction Solution\n",
    "\n",
    "\n",
    "This notebook presents a complete solution to the 7Learnings coding challenge. The task is to predict whether it would snow on April 2, 2005, using historical climate data from over 9,000 weather stations around the world.\n",
    "\n",
    "**Challenge Objective**\n",
    "*  “Use the GSOD (Global Surface Summary of the Day) dataset to gather historical climate data.”\n",
    "*  “Query and preprocess data leveraging BigQuery.”\n",
    "*  “Analyze snowfall trends and engineer predictive features.”\n",
    "*  “Train a supervised machine learning model to predict snowfall.”\n",
    "*  “Forecast snowfall occurrence for April 2, 2005, based solely on historical data.”\n",
    "  \n",
    "**Structure Of This Notebook**\n",
    "* Data Querying: Extract and filter weather records from 2000 to 2005\n",
    "* Exploratory Data Analysis: Identify snowfall patterns and missing data\n",
    "* Data Cleaning & Feature Engineering: Prepare and transform data for modeling\n",
    "* Modeling: Train and validate machine learning models to predict snow\n",
    "* Prediction: Generate snowfall predictions for April 2, 2005\n",
    "* Evaluation & Reflection: Assess model performance and discuss improvements\n",
    "\n",
    "\n",
    "\n",
    "\n",
    "\n",
    "\n",
    "\n",
    "\n",
    "\n"
   ]
  },
  {
   "cell_type": "markdown",
   "metadata": {},
   "source": [
    "# \"Will it snow tomorrow?\" - The time traveler asked\n",
    "The following dataset contains climate information from over 9000 stations accross the world. The overall goal of these subtasks will be to predict whether it will snow tomorrow 20 years ago. So if today is 1 April 2025 then the weather we want to forecast is for the 2 April 2005. You are supposed to solve the tasks using Big Query, which can be used in the Jupyter Notebook like it is shown in the following cell. For further information and how to use BigQuery in Jupyter Notebook refer to the Google Docs. \n",
    "\n",
    "The goal of this test is to test your coding knowledge in Python, BigQuery and Pandas as well as your understanding of Data Science. If you get stuck in the first part, you can use the replacement data provided in the second part."
   ]
  },
  {
   "cell_type": "markdown",
   "metadata": {},
   "source": [
    "## Part 1"
   ]
  },
  {
   "cell_type": "markdown",
   "metadata": {},
   "source": [
    "### 1. Task:Load and Filter GSOD Data with BigQuery\n",
    "Query historical GSOD weather data from 2000 to 2005 for station numbers between 725300 and 726300 to focus on a specific geographic region and timeframe relevant for snowfall analysis.\n",
    "\n",
    "The query formats the date for easier time series analysis and selects key meteorological variables such as temperature, snow depth, and precipitation.\n",
    "\n",
    "The resulting dataset is stored in the df_filtered DataFrame for further analysis."
   ]
  },
  {
   "cell_type": "code",
   "execution_count": null,
   "metadata": {},
   "outputs": [],
   "source": [
    "\n",
    "%load_ext bigquery_magics"
   ]
  },
  {
   "cell_type": "code",
   "execution_count": 102,
   "metadata": {},
   "outputs": [
    {
     "data": {
      "application/json": {
       "ascii": false,
       "bar_format": "{l_bar}{bar}|",
       "colour": null,
       "elapsed": 0.010603666305541992,
       "initial": 0,
       "n": 0,
       "ncols": null,
       "nrows": 29,
       "postfix": null,
       "prefix": "Query is running",
       "rate": null,
       "total": 1,
       "unit": "query",
       "unit_divisor": 1000,
       "unit_scale": false
      },
      "application/vnd.jupyter.widget-view+json": {
       "model_id": "2f41b4a42d4346df84350a5006840820",
       "version_major": 2,
       "version_minor": 0
      },
      "text/plain": [
       "Query is running:   0%|          |"
      ]
     },
     "metadata": {},
     "output_type": "display_data"
    },
    {
     "data": {
      "application/json": {
       "ascii": false,
       "bar_format": "{l_bar}{bar}|",
       "colour": null,
       "elapsed": 0.003575563430786133,
       "initial": 0,
       "n": 0,
       "ncols": null,
       "nrows": 29,
       "postfix": null,
       "prefix": "Downloading",
       "rate": null,
       "total": 447037,
       "unit": "rows",
       "unit_divisor": 1000,
       "unit_scale": false
      },
      "application/vnd.jupyter.widget-view+json": {
       "model_id": "ba43e292877b42ff89cb0bb7e99a2e39",
       "version_major": 2,
       "version_minor": 0
      },
      "text/plain": [
       "Downloading:   0%|          |"
      ]
     },
     "metadata": {},
     "output_type": "display_data"
    }
   ],
   "source": [
    "%%bigquery df_filtered\n",
    "SELECT\n",
    "  station_number,\n",
    "  wban_number,\n",
    "  year,\n",
    "  month,\n",
    "  day,\n",
    "  FORMAT_DATE('%Y-%m-%d', DATE(year, month, day)) AS date,\n",
    "  mean_temp,  #Average daily temperature (°F)\n",
    "  snow_depth,  #Snow depth on the ground (inches)\n",
    "  snow,        #Snowfall amount (inches)\n",
    "  total_precipitation,  #Total precipitation (rain + snow)\n",
    "  mean_sealevel_pressure, #Atmospheric pressure at sea level\n",
    "  fog,      #Weather events as binary indicators\n",
    "  rain,\n",
    "  hail,\n",
    "  thunder,\n",
    "  tornado\n",
    "FROM `bigquery-public-data.samples.gsod`\n",
    "WHERE year BETWEEN 2000 AND 2005\n",
    "  AND station_number BETWEEN 725300 AND 726300\n",
    "\n"
   ]
  },
  {
   "cell_type": "markdown",
   "metadata": {},
   "source": [
    "### 2. Task:Filter Relevant Stations (725300 to 725330)\n",
    "Filter the dataset to stations numbered 725300 to 725330 to focus the analysis on a smaller, more manageable subset, improving data consistency and reducing computational load."
   ]
  },
  {
   "cell_type": "code",
   "execution_count": 77,
   "metadata": {},
   "outputs": [
    {
     "name": "stdout",
     "output_type": "stream",
     "text": [
      "2000 to 2005\n",
      "Station range: 725300 to 726300\n"
     ]
    }
   ],
   "source": [
    "# Preview the first few records to verify data structure\n",
    "df_filtered.head()\n",
    "\n",
    "# Check data types to ensure correct formats for analysis\n",
    "df_filtered.dtypes\n",
    "\n",
    "# Verify temporal and spatial coverage in the filtered data\n",
    "print(df_filtered['year'].min(), \"to\", df_filtered['year'].max())\n",
    "print(\"Station range:\", df_filtered['station_number'].min(), \"to\", df_filtered['station_number'].max())\n"
   ]
  },
  {
   "cell_type": "code",
   "execution_count": 78,
   "metadata": {},
   "outputs": [
    {
     "name": "stdout",
     "output_type": "stream",
     "text": [
      "Subset shape: (21853, 16)\n"
     ]
    }
   ],
   "source": [
    "# Filter existing df_filtered for stations 725300 to 725330\n",
    "df_subset = df_filtered[(df_filtered['station_number'] >= 725300) & (df_filtered['station_number'] <= 725330)]\n",
    "print(\"Subset shape:\", df_subset.shape)\n"
   ]
  },
  {
   "cell_type": "markdown",
   "metadata": {},
   "source": [
    "Preliminary Data Quality Checks\n",
    "\n",
    "At this stage, I perform a preliminary check for missing values in key features such as temperature, snow depth, and snowfall to assess data completeness and guide subsequent cleaning steps.\n",
    "\n",
    "The date column is currently stored as a string formatted as ‘YYYY-MM-DD’. I verify its datatype and convert it to a datetime object if necessary to facilitate time series analysis."
   ]
  },
  {
   "cell_type": "code",
   "execution_count": 103,
   "metadata": {},
   "outputs": [
    {
     "name": "stdout",
     "output_type": "stream",
     "text": [
      "Missing values in key features:\n",
      " mean_temp          0\n",
      "snow_depth    437159\n",
      "snow               0\n",
      "dtype: int64\n"
     ]
    }
   ],
   "source": [
    "# Check for missing values in key columns relevant for snowfall prediction\n",
    "missing_values = df_filtered[['mean_temp', 'snow_depth', 'snow']].isnull().sum()\n",
    "print(\"Missing values in key features:\\n\", missing_values)\n"
   ]
  },
  {
   "cell_type": "code",
   "execution_count": 104,
   "metadata": {},
   "outputs": [
    {
     "name": "stdout",
     "output_type": "stream",
     "text": [
      "Missing values in key features:\n",
      " mean_temp          0\n",
      "snow_depth    437159\n",
      "snow               0\n",
      "dtype: int64\n",
      "Current 'date' column datatype: object\n",
      "Converted 'date' column to datetime dtype.\n"
     ]
    }
   ],
   "source": [
    "# Check for missing values in key columns relevant for snowfall prediction\n",
    "missing_values = df_filtered[['mean_temp', 'snow_depth', 'snow']].isnull().sum()\n",
    "print(\"Missing values in key features:\\n\", missing_values)\n",
    "\n",
    "# Check current datatype of the 'date' column\n",
    "print(\"Current 'date' column datatype:\", df_filtered['date'].dtype)\n",
    "\n",
    "# Convert 'date' column to datetime if it is not already\n",
    "if df_filtered['date'].dtype == 'object':  # usually string type\n",
    "    df_filtered['date'] = pd.to_datetime(df_filtered['date'])\n",
    "    print(\"Converted 'date' column to datetime dtype.\")\n",
    "else:\n",
    "    print(\"'date' column is already in datetime format.\")\n"
   ]
  },
  {
   "cell_type": "markdown",
   "metadata": {},
   "source": [
    "Annual Snowfall Trends"
   ]
  },
  {
   "cell_type": "markdown",
   "metadata": {},
   "source": [
    "Calculate the annual count of snowfall days from 2000 to 2005 for stations 725300 to 725330. This analysis provides insight into temporal snowfall patterns and highlights years with heavier snow activity.\n",
    "\n",
    "Preliminary results indicate that 2005 had the highest number of snow days, suggesting increased snowfall during that year."
   ]
  },
  {
   "cell_type": "code",
   "execution_count": 79,
   "metadata": {},
   "outputs": [
    {
     "data": {
      "application/json": {
       "ascii": false,
       "bar_format": "{l_bar}{bar}|",
       "colour": null,
       "elapsed": 0.00648188591003418,
       "initial": 0,
       "n": 0,
       "ncols": null,
       "nrows": 29,
       "postfix": null,
       "prefix": "Query is running",
       "rate": null,
       "total": 1,
       "unit": "query",
       "unit_divisor": 1000,
       "unit_scale": false
      },
      "application/vnd.jupyter.widget-view+json": {
       "model_id": "12798b2197734f6f9147fa1007a850de",
       "version_major": 2,
       "version_minor": 0
      },
      "text/plain": [
       "Query is running:   0%|          |"
      ]
     },
     "metadata": {},
     "output_type": "display_data"
    },
    {
     "data": {
      "application/json": {
       "ascii": false,
       "bar_format": "{l_bar}{bar}|",
       "colour": null,
       "elapsed": 0.009679317474365234,
       "initial": 0,
       "n": 0,
       "ncols": null,
       "nrows": 29,
       "postfix": null,
       "prefix": "Downloading",
       "rate": null,
       "total": 6,
       "unit": "rows",
       "unit_divisor": 1000,
       "unit_scale": false
      },
      "application/vnd.jupyter.widget-view+json": {
       "model_id": "c0d6def7a5af409e9cc92b90b29e0527",
       "version_major": 2,
       "version_minor": 0
      },
      "text/plain": [
       "Downloading:   0%|          |"
      ]
     },
     "metadata": {},
     "output_type": "display_data"
    }
   ],
   "source": [
    "%%bigquery snow_by_year\n",
    "SELECT\n",
    "  year,\n",
    "  COUNTIF(snow = TRUE) AS snow_days #Count days with snowfall recorded as True\n",
    "FROM `bigquery-public-data.samples.gsod`\n",
    "WHERE station_number BETWEEN 725300 AND 725330\n",
    "  AND year BETWEEN 2000 AND 2005\n",
    "GROUP BY year\n",
    "ORDER BY snow_days DESC\n"
   ]
  },
  {
   "cell_type": "code",
   "execution_count": 107,
   "metadata": {},
   "outputs": [
    {
     "data": {
      "text/html": [
       "<div>\n",
       "<style scoped>\n",
       "    .dataframe tbody tr th:only-of-type {\n",
       "        vertical-align: middle;\n",
       "    }\n",
       "\n",
       "    .dataframe tbody tr th {\n",
       "        vertical-align: top;\n",
       "    }\n",
       "\n",
       "    .dataframe thead th {\n",
       "        text-align: right;\n",
       "    }\n",
       "</style>\n",
       "<table border=\"1\" class=\"dataframe\">\n",
       "  <thead>\n",
       "    <tr style=\"text-align: right;\">\n",
       "      <th></th>\n",
       "      <th>year</th>\n",
       "      <th>snow_days</th>\n",
       "    </tr>\n",
       "  </thead>\n",
       "  <tbody>\n",
       "    <tr>\n",
       "      <th>0</th>\n",
       "      <td>2005</td>\n",
       "      <td>826</td>\n",
       "    </tr>\n",
       "    <tr>\n",
       "      <th>1</th>\n",
       "      <td>2000</td>\n",
       "      <td>797</td>\n",
       "    </tr>\n",
       "    <tr>\n",
       "      <th>2</th>\n",
       "      <td>2001</td>\n",
       "      <td>759</td>\n",
       "    </tr>\n",
       "    <tr>\n",
       "      <th>3</th>\n",
       "      <td>2002</td>\n",
       "      <td>745</td>\n",
       "    </tr>\n",
       "    <tr>\n",
       "      <th>4</th>\n",
       "      <td>2003</td>\n",
       "      <td>555</td>\n",
       "    </tr>\n",
       "    <tr>\n",
       "      <th>5</th>\n",
       "      <td>2004</td>\n",
       "      <td>262</td>\n",
       "    </tr>\n",
       "  </tbody>\n",
       "</table>\n",
       "</div>"
      ],
      "text/plain": [
       "   year  snow_days\n",
       "0  2005        826\n",
       "1  2000        797\n",
       "2  2001        759\n",
       "3  2002        745\n",
       "4  2003        555\n",
       "5  2004        262"
      ]
     },
     "metadata": {},
     "output_type": "display_data"
    }
   ],
   "source": [
    "# Display the snow days data\n",
    "display(snow_by_year)"
   ]
  },
  {
   "cell_type": "code",
   "execution_count": 105,
   "metadata": {},
   "outputs": [
    {
     "data": {
      "image/png": "[encoded data removed]",
      "text/plain": [
       "<Figure size 640x480 with 1 Axes>"
      ]
     },
     "metadata": {},
     "output_type": "display_data"
    }
   ],
   "source": [
    "import matplotlib.pyplot as plt\n",
    "\n",
    "snow_by_year.plot(kind='bar', x='year', y='snow_days', legend=False)\n",
    "plt.title('Annual Snow Days (2000-2005)')\n",
    "plt.xlabel('Year')\n",
    "plt.ylabel('Number of Snow Days')\n",
    "plt.show()\n"
   ]
  },
  {
   "cell_type": "markdown",
   "metadata": {},
   "source": [
    "**Compute Daily Snow Depth Change**\n",
    "\n"
   ]
  },
  {
   "cell_type": "markdown",
   "metadata": {},
   "source": [
    "Calculate the daily change in snow depth for each station between 2000 and 2005. This feature captures significant snowfall accumulation events which are important for predictive modeling.\n",
    "\n",
    "Later identify the station and date where the largest single-day increase in snow depth occurred."
   ]
  },
  {
   "cell_type": "code",
   "execution_count": 111,
   "metadata": {},
   "outputs": [
    {
     "data": {
      "application/json": {
       "ascii": false,
       "bar_format": "{l_bar}{bar}|",
       "colour": null,
       "elapsed": 0.006906270980834961,
       "initial": 0,
       "n": 0,
       "ncols": null,
       "nrows": 29,
       "postfix": null,
       "prefix": "Query is running",
       "rate": null,
       "total": 1,
       "unit": "query",
       "unit_divisor": 1000,
       "unit_scale": false
      },
      "application/vnd.jupyter.widget-view+json": {
       "model_id": "0984257d14bf4456abc3e9e0d8ef3158",
       "version_major": 2,
       "version_minor": 0
      },
      "text/plain": [
       "Query is running:   0%|          |"
      ]
     },
     "metadata": {},
     "output_type": "display_data"
    },
    {
     "data": {
      "application/json": {
       "ascii": false,
       "bar_format": "{l_bar}{bar}|",
       "colour": null,
       "elapsed": 0.0057065486907958984,
       "initial": 0,
       "n": 0,
       "ncols": null,
       "nrows": 29,
       "postfix": null,
       "prefix": "Downloading",
       "rate": null,
       "total": 21853,
       "unit": "rows",
       "unit_divisor": 1000,
       "unit_scale": false
      },
      "application/vnd.jupyter.widget-view+json": {
       "model_id": "47f87e1f1c1e48709929c4e726526746",
       "version_major": 2,
       "version_minor": 0
      },
      "text/plain": [
       "Downloading:   0%|          |"
      ]
     },
     "metadata": {},
     "output_type": "display_data"
    }
   ],
   "source": [
    "%%bigquery df_snow_change\n",
    "SELECT\n",
    "  station_number,\n",
    "  wban_number,\n",
    "  year,\n",
    "  month,\n",
    "  day,\n",
    "  FORMAT_DATE('%Y-%m-%d', DATE(year, month, day)) AS date,\n",
    "  snow_depth,\n",
    "  snow,\n",
    "  LAG(snow_depth) OVER (\n",
    "    PARTITION BY station_number\n",
    "    ORDER BY year, month, day\n",
    "  ) AS previous_snow_depth,\n",
    "  (snow_depth - LAG(snow_depth) OVER (\n",
    "    PARTITION BY station_number\n",
    "    ORDER BY year, month, day\n",
    "  )) AS snow_depth_change\n",
    "FROM `bigquery-public-data.samples.gsod`\n",
    "WHERE year BETWEEN 2000 AND 2005\n",
    "  AND station_number BETWEEN 725300 AND 725330\n",
    "\n"
   ]
  },
  {
   "cell_type": "code",
   "execution_count": 112,
   "metadata": {},
   "outputs": [
    {
     "name": "stdout",
     "output_type": "stream",
     "text": [
      "Task 4 Result: Station and Day with Maximum Snow Depth Increase\n",
      "station_number                    725300\n",
      "date                 2005-01-22 00:00:00\n",
      "snow_depth                          11.8\n",
      "snow_depth_change                    9.8\n",
      "Name: 3915, dtype: object\n"
     ]
    },
    {
     "data": {
      "image/png": "[encoded data removed]",
      "text/plain": [
       "<Figure size 800x400 with 1 Axes>"
      ]
     },
     "metadata": {},
     "output_type": "display_data"
    }
   ],
   "source": [
    "import pandas as pd\n",
    "\n",
    "\n",
    "# Ensure correct datatypes\n",
    "df_stations_subset['date'] = pd.to_datetime(df_stations_subset['date'])\n",
    "df_stations_subset['snow_depth'] = pd.to_numeric(df_stations_subset['snow_depth'], errors='coerce')\n",
    "df_stations_subset.sort_values(by=['station_number', 'date'], inplace=True)\n",
    "df_stations_subset['snow_depth_change'] = df_stations_subset.groupby('station_number')['snow_depth'].diff()\n",
    "\n",
    "max_change_row = df_stations_subset.loc[df_stations_subset['snow_depth_change'].idxmax()]\n",
    "print(\"Task 4 Result: Station and Day with Maximum Snow Depth Increase\")\n",
    "print(max_change_row[['station_number', 'date', 'snow_depth', 'snow_depth_change']])\n",
    "\n",
    "# %%\n",
    "plt.figure(figsize=(8, 4))\n",
    "df_stations_subset['snow_depth_change'].dropna().hist(bins=50, color='slateblue')\n",
    "plt.title(\"Distribution of Daily Snow Depth Change\")\n",
    "plt.xlabel(\"Snow Depth Change\")\n",
    "plt.ylabel(\"Frequency\")\n",
    "plt.tight_layout()\n",
    "plt.show()\n"
   ]
  },
  {
   "cell_type": "markdown",
   "metadata": {},
   "source": [
    "**Clean Data and Handle Missing Values**\n",
    "\n",
    "To prepare the dataset for modeling, next step is addressing the missing values using domain-informed imputations:"
   ]
  },
  {
   "cell_type": "markdown",
   "metadata": {},
   "source": [
    "\n",
    "\n",
    "\n",
    "| Column                   | Imputation | Reason                                  |\n",
    "| ------------------------ | ---------- | --------------------------------------- |\n",
    "| `snow_depth`             | 0          | No measurable snow assumed if missing   |\n",
    "| `total_precipitation`    | 0          | Dry day assumption                      |\n",
    "| `mean_sealevel_pressure` | median     | Robust central tendency                 |\n",
    "| `mean_temp`              | mean       | Reasonable for modeling seasonal trends |\n",
    "\n",
    "Additionally, rows missing snowfall labels (snow) are dropped, and the snow column is ensured to be boolean for modeling.\n",
    "\n",
    "\n",
    "Careful imputation of missing values is crucial to maintain the integrity and robustness of the predictive model. Imputing sensible default or statistical values prevents bias and enables the model to learn meaningful patterns from a complete dataset\n",
    "\n",
    "Rows with missing values in the target variable (snow) are removed because these labels are essential for supervised learning. Without accurate target information, the model cannot be properly trained or evaluated\n"
   ]
  },
  {
   "cell_type": "code",
   "execution_count": 113,
   "metadata": {},
   "outputs": [],
   "source": [
    "# Impute missing values based on domain knowledge\n",
    "df_stations_subset['snow_depth'] = df_stations_subset['snow_depth'].fillna(0)  # No measurable snow if missing\n",
    "df_stations_subset['total_precipitation'] = df_stations_subset['total_precipitation'].fillna(0)  # Assume dry day\n",
    "df_stations_subset['mean_sealevel_pressure'] = df_stations_subset['mean_sealevel_pressure'].fillna(\n",
    "    df_stations_subset['mean_sealevel_pressure'].median())  # Median is robust to outliers\n",
    "df_stations_subset['mean_temp'] = df_stations_subset['mean_temp'].fillna(df_stations_subset['mean_temp'].mean())  # Mean for seasonal trend\n",
    "\n",
    "# Drop rows where snowfall label is missing, as these are critical for supervised learning\n",
    "df_stations_subset.dropna(subset=['snow'], inplace=True)\n",
    "\n",
    "# Ensure 'snow' column is boolean for classification\n",
    "df_stations_subset['snow'] = df_stations_subset['snow'].astype(bool)\n",
    "\n",
    "\n"
   ]
  },
  {
   "cell_type": "markdown",
   "metadata": {},
   "source": [
    "**Feature Engineering**\n",
    "\n",
    "Deriving additional temporal features from the date column to capture seasonal and cyclic snowfall patterns:\n",
    "\n",
    "Month: Categorical month of the year (1–12)\n",
    "\n",
    "Day of Year: Day count within the year (1–365/366)"
   ]
  },
  {
   "cell_type": "code",
   "execution_count": 114,
   "metadata": {},
   "outputs": [],
   "source": [
    "# Feature engineering: extract month and day of year to help capture seasonality\n",
    "df_stations_subset['month'] = df_stations_subset['date'].dt.month\n",
    "df_stations_subset['dayofyear'] = df_stations_subset['date'].dt.dayofyear"
   ]
  },
  {
   "cell_type": "markdown",
   "metadata": {},
   "source": [
    "### 3. Task\n"
   ]
  },
  {
   "cell_type": "markdown",
   "metadata": {},
   "source": [
    "**Split Data into Training, Validation, and Test Sets**\n",
    "The goal is to predict snowfall on April 2, 2005, which serves as the test date.\n",
    "\n",
    "Training set: All data up to 60 days before the test day (i.e., before February 1, 2005).\n",
    "\n",
    "Validation set: Data from February 1, 2005 to April 1, 2005, used for hyperparameter tuning and early stopping.\n",
    "\n",
    "Test set: Data from April 2, 2005, the day we want to forecast snowfall for, which remains unseen during training and validation.\n",
    "\n"
   ]
  },
  {
   "cell_type": "code",
   "execution_count": 115,
   "metadata": {},
   "outputs": [
    {
     "name": "stdout",
     "output_type": "stream",
     "text": [
      "Train set size: (18538, 18)\n",
      "Validation set size: (576, 18)\n",
      "Test set size: (10, 18)\n",
      "\n",
      "Dynamic test date (20 years ago): 2005-06-04\n",
      "\n",
      "Using fixed test date from instructions: 2005-04-02 00:00:00\n"
     ]
    }
   ],
   "source": [
    "import pandas as pd\n",
    "import datetime as dt\n",
    "\n",
    "# Define fixed test day for prediction\n",
    "test_day = pd.Timestamp(\"2005-04-02\")\n",
    "\n",
    "# Define cutoff dates for train and validation sets relative to the test day\n",
    "train_end = test_day - pd.Timedelta(days=60)  # 60 days before test day\n",
    "val_end = test_day - pd.Timedelta(days=1)     # Day before test day\n",
    "\n",
    "# Split dataset into train, validation, and test subsets\n",
    "df_train = df_stations_subset[df_stations_subset['date'] <= train_end]\n",
    "df_val = df_stations_subset[(df_stations_subset['date'] > train_end) & (df_stations_subset['date'] <= val_end)]\n",
    "df_test = df_stations_subset[df_stations_subset['date'] == test_day]\n",
    "\n",
    "print(\"Train set size:\", df_train.shape)\n",
    "print(\"Validation set size:\", df_val.shape)\n",
    "print(\"Test set size:\", df_test.shape)\n",
    "\n",
    "# Compute dynamic test date for reference (20 years ago from today)\n",
    "dynamic_test_date = (dt.datetime.today() - dt.timedelta(days=20*365)).date()\n",
    "print(\"\\nDynamic test date (20 years ago):\", dynamic_test_date)\n",
    "\n",
    "print(\"\\nUsing fixed test date from instructions:\", test_day)\n",
    "\n"
   ]
  },
  {
   "cell_type": "code",
   "execution_count": 116,
   "metadata": {},
   "outputs": [],
   "source": [
    "# Define features and target\n",
    "features = ['mean_temp', 'snow_depth', 'total_precipitation', 'mean_sealevel_pressure', 'month', 'dayofyear']\n",
    "target = 'snow'\n",
    "\n",
    "# Drop missing values (should be none by now)\n",
    "df_train = df_train.dropna(subset=features + [target])\n",
    "df_val = df_val.dropna(subset=features + [target])\n",
    "df_test = df_test.dropna(subset=features + [target])\n"
   ]
  },
  {
   "cell_type": "markdown",
   "metadata": {},
   "source": [
    "## Part 2\n",
    "If you made it up to here all by yourself, you can use your prepared dataset to train an algorithm of your choice to forecast whether it will snow on the following date for each station in this dataset:"
   ]
  },
  {
   "cell_type": "code",
   "execution_count": 32,
   "metadata": {},
   "outputs": [
    {
     "name": "stdout",
     "output_type": "stream",
     "text": [
      "2005-06-04\n"
     ]
    }
   ],
   "source": [
    "import datetime as dt\n",
    "test_date = str(dt.datetime.today() - dt.timedelta(days=20*365))\n",
    "print(test_date.split(' ')[0])\n"
   ]
  },
  {
   "cell_type": "markdown",
   "metadata": {},
   "source": [
    "Dynamic Test Date Calculation\n",
    "The dynamic test date is calculated as exactly 20 years prior to today’s date to demonstrate how the forecasting framework can adapt to any current day. Given today’s date is May 30, 2025, the dynamic test date is June 4, 2005. This illustrates how the model and data splitting logic can generalize beyond the fixed challenge date.\n",
    "\n",
    "However, for consistency with the challenge instructions, we use the fixed test date of April 2, 2005, for all modeling and evaluation."
   ]
  },
  {
   "cell_type": "markdown",
   "metadata": {},
   "source": [
    "You are allowed to use any library you are comfortable with such as sklearn, tensorflow, keras etc. \n",
    "If you did not manage to finish part one feel free to use the data provided in 'coding_challenge.csv' Note that this data does not represent a solution to Part 1. "
   ]
  },
  {
   "cell_type": "markdown",
   "metadata": {},
   "source": [
    "**Train an XGBoost Classifier**\n",
    "\n",
    "I selected eval_metric='logloss' because logarithmic loss is a robust metric for binary classification problems, especially when dealing with imbalanced datasets like snowfall prediction. It effectively penalizes false confident predictions and helps the model optimize probability estimates, which is crucial for reliable forecasting."
   ]
  },
  {
   "cell_type": "code",
   "execution_count": 91,
   "metadata": {},
   "outputs": [
    {
     "data": {
      "text/html": [
       "<style>#sk-container-id-4 {\n",
       "  /* Definition of color scheme common for light and dark mode */\n",
       "  --sklearn-color-text: #000;\n",
       "  --sklearn-color-text-muted: #666;\n",
       "  --sklearn-color-line: gray;\n",
       "  /* Definition of color scheme for unfitted estimators */\n",
       "  --sklearn-color-unfitted-level-0: #fff5e6;\n",
       "  --sklearn-color-unfitted-level-1: #f6e4d2;\n",
       "  --sklearn-color-unfitted-level-2: #ffe0b3;\n",
       "  --sklearn-color-unfitted-level-3: chocolate;\n",
       "  /* Definition of color scheme for fitted estimators */\n",
       "  --sklearn-color-fitted-level-0: #f0f8ff;\n",
       "  --sklearn-color-fitted-level-1: #d4ebff;\n",
       "  --sklearn-color-fitted-level-2: #b3dbfd;\n",
       "  --sklearn-color-fitted-level-3: cornflowerblue;\n",
       "\n",
       "  /* Specific color for light theme */\n",
       "  --sklearn-color-text-on-default-background: var(--sg-text-color, var(--theme-code-foreground, var(--jp-content-font-color1, black)));\n",
       "  --sklearn-color-background: var(--sg-background-color, var(--theme-background, var(--jp-layout-color0, white)));\n",
       "  --sklearn-color-border-box: var(--sg-text-color, var(--theme-code-foreground, var(--jp-content-font-color1, black)));\n",
       "  --sklearn-color-icon: #696969;\n",
       "\n",
       "  @media (prefers-color-scheme: dark) {\n",
       "    /* Redefinition of color scheme for dark theme */\n",
       "    --sklearn-color-text-on-default-background: var(--sg-text-color, var(--theme-code-foreground, var(--jp-content-font-color1, white)));\n",
       "    --sklearn-color-background: var(--sg-background-color, var(--theme-background, var(--jp-layout-color0, #111)));\n",
       "    --sklearn-color-border-box: var(--sg-text-color, var(--theme-code-foreground, var(--jp-content-font-color1, white)));\n",
       "    --sklearn-color-icon: #878787;\n",
       "  }\n",
       "}\n",
       "\n",
       "#sk-container-id-4 {\n",
       "  color: var(--sklearn-color-text);\n",
       "}\n",
       "\n",
       "#sk-container-id-4 pre {\n",
       "  padding: 0;\n",
       "}\n",
       "\n",
       "#sk-container-id-4 input.sk-hidden--visually {\n",
       "  border: 0;\n",
       "  clip: rect(1px 1px 1px 1px);\n",
       "  clip: rect(1px, 1px, 1px, 1px);\n",
       "  height: 1px;\n",
       "  margin: -1px;\n",
       "  overflow: hidden;\n",
       "  padding: 0;\n",
       "  position: absolute;\n",
       "  width: 1px;\n",
       "}\n",
       "\n",
       "#sk-container-id-4 div.sk-dashed-wrapped {\n",
       "  border: 1px dashed var(--sklearn-color-line);\n",
       "  margin: 0 0.4em 0.5em 0.4em;\n",
       "  box-sizing: border-box;\n",
       "  padding-bottom: 0.4em;\n",
       "  background-color: var(--sklearn-color-background);\n",
       "}\n",
       "\n",
       "#sk-container-id-4 div.sk-container {\n",
       "  /* jupyter's `normalize.less` sets `[hidden] { display: none; }`\n",
       "     but bootstrap.min.css set `[hidden] { display: none !important; }`\n",
       "     so we also need the `!important` here to be able to override the\n",
       "     default hidden behavior on the sphinx rendered scikit-learn.org.\n",
       "     See: https://github.com/scikit-learn/scikit-learn/issues/21755 */\n",
       "  display: inline-block !important;\n",
       "  position: relative;\n",
       "}\n",
       "\n",
       "#sk-container-id-4 div.sk-text-repr-fallback {\n",
       "  display: none;\n",
       "}\n",
       "\n",
       "div.sk-parallel-item,\n",
       "div.sk-serial,\n",
       "div.sk-item {\n",
       "  /* draw centered vertical line to link estimators */\n",
       "  background-image: linear-gradient(var(--sklearn-color-text-on-default-background), var(--sklearn-color-text-on-default-background));\n",
       "  background-size: 2px 100%;\n",
       "  background-repeat: no-repeat;\n",
       "  background-position: center center;\n",
       "}\n",
       "\n",
       "/* Parallel-specific style estimator block */\n",
       "\n",
       "#sk-container-id-4 div.sk-parallel-item::after {\n",
       "  content: \"\";\n",
       "  width: 100%;\n",
       "  border-bottom: 2px solid var(--sklearn-color-text-on-default-background);\n",
       "  flex-grow: 1;\n",
       "}\n",
       "\n",
       "#sk-container-id-4 div.sk-parallel {\n",
       "  display: flex;\n",
       "  align-items: stretch;\n",
       "  justify-content: center;\n",
       "  background-color: var(--sklearn-color-background);\n",
       "  position: relative;\n",
       "}\n",
       "\n",
       "#sk-container-id-4 div.sk-parallel-item {\n",
       "  display: flex;\n",
       "  flex-direction: column;\n",
       "}\n",
       "\n",
       "#sk-container-id-4 div.sk-parallel-item:first-child::after {\n",
       "  align-self: flex-end;\n",
       "  width: 50%;\n",
       "}\n",
       "\n",
       "#sk-container-id-4 div.sk-parallel-item:last-child::after {\n",
       "  align-self: flex-start;\n",
       "  width: 50%;\n",
       "}\n",
       "\n",
       "#sk-container-id-4 div.sk-parallel-item:only-child::after {\n",
       "  width: 0;\n",
       "}\n",
       "\n",
       "/* Serial-specific style estimator block */\n",
       "\n",
       "#sk-container-id-4 div.sk-serial {\n",
       "  display: flex;\n",
       "  flex-direction: column;\n",
       "  align-items: center;\n",
       "  background-color: var(--sklearn-color-background);\n",
       "  padding-right: 1em;\n",
       "  padding-left: 1em;\n",
       "}\n",
       "\n",
       "\n",
       "/* Toggleable style: style used for estimator/Pipeline/ColumnTransformer box that is\n",
       "clickable and can be expanded/collapsed.\n",
       "- Pipeline and ColumnTransformer use this feature and define the default style\n",
       "- Estimators will overwrite some part of the style using the `sk-estimator` class\n",
       "*/\n",
       "\n",
       "/* Pipeline and ColumnTransformer style (default) */\n",
       "\n",
       "#sk-container-id-4 div.sk-toggleable {\n",
       "  /* Default theme specific background. It is overwritten whether we have a\n",
       "  specific estimator or a Pipeline/ColumnTransformer */\n",
       "  background-color: var(--sklearn-color-background);\n",
       "}\n",
       "\n",
       "/* Toggleable label */\n",
       "#sk-container-id-4 label.sk-toggleable__label {\n",
       "  cursor: pointer;\n",
       "  display: flex;\n",
       "  width: 100%;\n",
       "  margin-bottom: 0;\n",
       "  padding: 0.5em;\n",
       "  box-sizing: border-box;\n",
       "  text-align: center;\n",
       "  align-items: start;\n",
       "  justify-content: space-between;\n",
       "  gap: 0.5em;\n",
       "}\n",
       "\n",
       "#sk-container-id-4 label.sk-toggleable__label .caption {\n",
       "  font-size: 0.6rem;\n",
       "  font-weight: lighter;\n",
       "  color: var(--sklearn-color-text-muted);\n",
       "}\n",
       "\n",
       "#sk-container-id-4 label.sk-toggleable__label-arrow:before {\n",
       "  /* Arrow on the left of the label */\n",
       "  content: \"▸\";\n",
       "  float: left;\n",
       "  margin-right: 0.25em;\n",
       "  color: var(--sklearn-color-icon);\n",
       "}\n",
       "\n",
       "#sk-container-id-4 label.sk-toggleable__label-arrow:hover:before {\n",
       "  color: var(--sklearn-color-text);\n",
       "}\n",
       "\n",
       "/* Toggleable content - dropdown */\n",
       "\n",
       "#sk-container-id-4 div.sk-toggleable__content {\n",
       "  max-height: 0;\n",
       "  max-width: 0;\n",
       "  overflow: hidden;\n",
       "  text-align: left;\n",
       "  /* unfitted */\n",
       "  background-color: var(--sklearn-color-unfitted-level-0);\n",
       "}\n",
       "\n",
       "#sk-container-id-4 div.sk-toggleable__content.fitted {\n",
       "  /* fitted */\n",
       "  background-color: var(--sklearn-color-fitted-level-0);\n",
       "}\n",
       "\n",
       "#sk-container-id-4 div.sk-toggleable__content pre {\n",
       "  margin: 0.2em;\n",
       "  border-radius: 0.25em;\n",
       "  color: var(--sklearn-color-text);\n",
       "  /* unfitted */\n",
       "  background-color: var(--sklearn-color-unfitted-level-0);\n",
       "}\n",
       "\n",
       "#sk-container-id-4 div.sk-toggleable__content.fitted pre {\n",
       "  /* unfitted */\n",
       "  background-color: var(--sklearn-color-fitted-level-0);\n",
       "}\n",
       "\n",
       "#sk-container-id-4 input.sk-toggleable__control:checked~div.sk-toggleable__content {\n",
       "  /* Expand drop-down */\n",
       "  max-height: 200px;\n",
       "  max-width: 100%;\n",
       "  overflow: auto;\n",
       "}\n",
       "\n",
       "#sk-container-id-4 input.sk-toggleable__control:checked~label.sk-toggleable__label-arrow:before {\n",
       "  content: \"▾\";\n",
       "}\n",
       "\n",
       "/* Pipeline/ColumnTransformer-specific style */\n",
       "\n",
       "#sk-container-id-4 div.sk-label input.sk-toggleable__control:checked~label.sk-toggleable__label {\n",
       "  color: var(--sklearn-color-text);\n",
       "  background-color: var(--sklearn-color-unfitted-level-2);\n",
       "}\n",
       "\n",
       "#sk-container-id-4 div.sk-label.fitted input.sk-toggleable__control:checked~label.sk-toggleable__label {\n",
       "  background-color: var(--sklearn-color-fitted-level-2);\n",
       "}\n",
       "\n",
       "/* Estimator-specific style */\n",
       "\n",
       "/* Colorize estimator box */\n",
       "#sk-container-id-4 div.sk-estimator input.sk-toggleable__control:checked~label.sk-toggleable__label {\n",
       "  /* unfitted */\n",
       "  background-color: var(--sklearn-color-unfitted-level-2);\n",
       "}\n",
       "\n",
       "#sk-container-id-4 div.sk-estimator.fitted input.sk-toggleable__control:checked~label.sk-toggleable__label {\n",
       "  /* fitted */\n",
       "  background-color: var(--sklearn-color-fitted-level-2);\n",
       "}\n",
       "\n",
       "#sk-container-id-4 div.sk-label label.sk-toggleable__label,\n",
       "#sk-container-id-4 div.sk-label label {\n",
       "  /* The background is the default theme color */\n",
       "  color: var(--sklearn-color-text-on-default-background);\n",
       "}\n",
       "\n",
       "/* On hover, darken the color of the background */\n",
       "#sk-container-id-4 div.sk-label:hover label.sk-toggleable__label {\n",
       "  color: var(--sklearn-color-text);\n",
       "  background-color: var(--sklearn-color-unfitted-level-2);\n",
       "}\n",
       "\n",
       "/* Label box, darken color on hover, fitted */\n",
       "#sk-container-id-4 div.sk-label.fitted:hover label.sk-toggleable__label.fitted {\n",
       "  color: var(--sklearn-color-text);\n",
       "  background-color: var(--sklearn-color-fitted-level-2);\n",
       "}\n",
       "\n",
       "/* Estimator label */\n",
       "\n",
       "#sk-container-id-4 div.sk-label label {\n",
       "  font-family: monospace;\n",
       "  font-weight: bold;\n",
       "  display: inline-block;\n",
       "  line-height: 1.2em;\n",
       "}\n",
       "\n",
       "#sk-container-id-4 div.sk-label-container {\n",
       "  text-align: center;\n",
       "}\n",
       "\n",
       "/* Estimator-specific */\n",
       "#sk-container-id-4 div.sk-estimator {\n",
       "  font-family: monospace;\n",
       "  border: 1px dotted var(--sklearn-color-border-box);\n",
       "  border-radius: 0.25em;\n",
       "  box-sizing: border-box;\n",
       "  margin-bottom: 0.5em;\n",
       "  /* unfitted */\n",
       "  background-color: var(--sklearn-color-unfitted-level-0);\n",
       "}\n",
       "\n",
       "#sk-container-id-4 div.sk-estimator.fitted {\n",
       "  /* fitted */\n",
       "  background-color: var(--sklearn-color-fitted-level-0);\n",
       "}\n",
       "\n",
       "/* on hover */\n",
       "#sk-container-id-4 div.sk-estimator:hover {\n",
       "  /* unfitted */\n",
       "  background-color: var(--sklearn-color-unfitted-level-2);\n",
       "}\n",
       "\n",
       "#sk-container-id-4 div.sk-estimator.fitted:hover {\n",
       "  /* fitted */\n",
       "  background-color: var(--sklearn-color-fitted-level-2);\n",
       "}\n",
       "\n",
       "/* Specification for estimator info (e.g. \"i\" and \"?\") */\n",
       "\n",
       "/* Common style for \"i\" and \"?\" */\n",
       "\n",
       ".sk-estimator-doc-link,\n",
       "a:link.sk-estimator-doc-link,\n",
       "a:visited.sk-estimator-doc-link {\n",
       "  float: right;\n",
       "  font-size: smaller;\n",
       "  line-height: 1em;\n",
       "  font-family: monospace;\n",
       "  background-color: var(--sklearn-color-background);\n",
       "  border-radius: 1em;\n",
       "  height: 1em;\n",
       "  width: 1em;\n",
       "  text-decoration: none !important;\n",
       "  margin-left: 0.5em;\n",
       "  text-align: center;\n",
       "  /* unfitted */\n",
       "  border: var(--sklearn-color-unfitted-level-1) 1pt solid;\n",
       "  color: var(--sklearn-color-unfitted-level-1);\n",
       "}\n",
       "\n",
       ".sk-estimator-doc-link.fitted,\n",
       "a:link.sk-estimator-doc-link.fitted,\n",
       "a:visited.sk-estimator-doc-link.fitted {\n",
       "  /* fitted */\n",
       "  border: var(--sklearn-color-fitted-level-1) 1pt solid;\n",
       "  color: var(--sklearn-color-fitted-level-1);\n",
       "}\n",
       "\n",
       "/* On hover */\n",
       "div.sk-estimator:hover .sk-estimator-doc-link:hover,\n",
       ".sk-estimator-doc-link:hover,\n",
       "div.sk-label-container:hover .sk-estimator-doc-link:hover,\n",
       ".sk-estimator-doc-link:hover {\n",
       "  /* unfitted */\n",
       "  background-color: var(--sklearn-color-unfitted-level-3);\n",
       "  color: var(--sklearn-color-background);\n",
       "  text-decoration: none;\n",
       "}\n",
       "\n",
       "div.sk-estimator.fitted:hover .sk-estimator-doc-link.fitted:hover,\n",
       ".sk-estimator-doc-link.fitted:hover,\n",
       "div.sk-label-container:hover .sk-estimator-doc-link.fitted:hover,\n",
       ".sk-estimator-doc-link.fitted:hover {\n",
       "  /* fitted */\n",
       "  background-color: var(--sklearn-color-fitted-level-3);\n",
       "  color: var(--sklearn-color-background);\n",
       "  text-decoration: none;\n",
       "}\n",
       "\n",
       "/* Span, style for the box shown on hovering the info icon */\n",
       ".sk-estimator-doc-link span {\n",
       "  display: none;\n",
       "  z-index: 9999;\n",
       "  position: relative;\n",
       "  font-weight: normal;\n",
       "  right: .2ex;\n",
       "  padding: .5ex;\n",
       "  margin: .5ex;\n",
       "  width: min-content;\n",
       "  min-width: 20ex;\n",
       "  max-width: 50ex;\n",
       "  color: var(--sklearn-color-text);\n",
       "  box-shadow: 2pt 2pt 4pt #999;\n",
       "  /* unfitted */\n",
       "  background: var(--sklearn-color-unfitted-level-0);\n",
       "  border: .5pt solid var(--sklearn-color-unfitted-level-3);\n",
       "}\n",
       "\n",
       ".sk-estimator-doc-link.fitted span {\n",
       "  /* fitted */\n",
       "  background: var(--sklearn-color-fitted-level-0);\n",
       "  border: var(--sklearn-color-fitted-level-3);\n",
       "}\n",
       "\n",
       ".sk-estimator-doc-link:hover span {\n",
       "  display: block;\n",
       "}\n",
       "\n",
       "/* \"?\"-specific style due to the `<a>` HTML tag */\n",
       "\n",
       "#sk-container-id-4 a.estimator_doc_link {\n",
       "  float: right;\n",
       "  font-size: 1rem;\n",
       "  line-height: 1em;\n",
       "  font-family: monospace;\n",
       "  background-color: var(--sklearn-color-background);\n",
       "  border-radius: 1rem;\n",
       "  height: 1rem;\n",
       "  width: 1rem;\n",
       "  text-decoration: none;\n",
       "  /* unfitted */\n",
       "  color: var(--sklearn-color-unfitted-level-1);\n",
       "  border: var(--sklearn-color-unfitted-level-1) 1pt solid;\n",
       "}\n",
       "\n",
       "#sk-container-id-4 a.estimator_doc_link.fitted {\n",
       "  /* fitted */\n",
       "  border: var(--sklearn-color-fitted-level-1) 1pt solid;\n",
       "  color: var(--sklearn-color-fitted-level-1);\n",
       "}\n",
       "\n",
       "/* On hover */\n",
       "#sk-container-id-4 a.estimator_doc_link:hover {\n",
       "  /* unfitted */\n",
       "  background-color: var(--sklearn-color-unfitted-level-3);\n",
       "  color: var(--sklearn-color-background);\n",
       "  text-decoration: none;\n",
       "}\n",
       "\n",
       "#sk-container-id-4 a.estimator_doc_link.fitted:hover {\n",
       "  /* fitted */\n",
       "  background-color: var(--sklearn-color-fitted-level-3);\n",
       "}\n",
       "</style><div id=\"sk-container-id-4\" class=\"sk-top-container\"><div class=\"sk-text-repr-fallback\"><pre>XGBClassifier(base_score=None, booster=None, callbacks=None,\n",
       "              colsample_bylevel=None, colsample_bynode=None,\n",
       "              colsample_bytree=None, device=None, early_stopping_rounds=None,\n",
       "              enable_categorical=False, eval_metric=&#x27;logloss&#x27;,\n",
       "              feature_types=None, feature_weights=None, gamma=None,\n",
       "              grow_policy=None, importance_type=None,\n",
       "              interaction_constraints=None, learning_rate=None, max_bin=None,\n",
       "              max_cat_threshold=None, max_cat_to_onehot=None,\n",
       "              max_delta_step=None, max_depth=4, max_leaves=None,\n",
       "              min_child_weight=None, missing=nan, monotone_constraints=None,\n",
       "              multi_strategy=None, n_estimators=100, n_jobs=None,\n",
       "              num_parallel_tree=None, ...)</pre><b>In a Jupyter environment, please rerun this cell to show the HTML representation or trust the notebook. <br />On GitHub, the HTML representation is unable to render, please try loading this page with nbviewer.org.</b></div><div class=\"sk-container\" hidden><div class=\"sk-item\"><div class=\"sk-estimator fitted sk-toggleable\"><input class=\"sk-toggleable__control sk-hidden--visually\" id=\"sk-estimator-id-4\" type=\"checkbox\" checked><label for=\"sk-estimator-id-4\" class=\"sk-toggleable__label fitted sk-toggleable__label-arrow\"><div><div>XGBClassifier</div></div><div><a class=\"sk-estimator-doc-link fitted\" rel=\"noreferrer\" target=\"_blank\" href=\"https://xgboost.readthedocs.io/en/release_3.0.0/python/python_api.html#xgboost.XGBClassifier\">?<span>Documentation for XGBClassifier</span></a><span class=\"sk-estimator-doc-link fitted\">i<span>Fitted</span></span></div></label><div class=\"sk-toggleable__content fitted\"><pre>XGBClassifier(base_score=None, booster=None, callbacks=None,\n",
       "              colsample_bylevel=None, colsample_bynode=None,\n",
       "              colsample_bytree=None, device=None, early_stopping_rounds=None,\n",
       "              enable_categorical=False, eval_metric=&#x27;logloss&#x27;,\n",
       "              feature_types=None, feature_weights=None, gamma=None,\n",
       "              grow_policy=None, importance_type=None,\n",
       "              interaction_constraints=None, learning_rate=None, max_bin=None,\n",
       "              max_cat_threshold=None, max_cat_to_onehot=None,\n",
       "              max_delta_step=None, max_depth=4, max_leaves=None,\n",
       "              min_child_weight=None, missing=nan, monotone_constraints=None,\n",
       "              multi_strategy=None, n_estimators=100, n_jobs=None,\n",
       "              num_parallel_tree=None, ...)</pre></div> </div></div></div></div>"
      ],
      "text/plain": [
       "XGBClassifier(base_score=None, booster=None, callbacks=None,\n",
       "              colsample_bylevel=None, colsample_bynode=None,\n",
       "              colsample_bytree=None, device=None, early_stopping_rounds=None,\n",
       "              enable_categorical=False, eval_metric='logloss',\n",
       "              feature_types=None, feature_weights=None, gamma=None,\n",
       "              grow_policy=None, importance_type=None,\n",
       "              interaction_constraints=None, learning_rate=None, max_bin=None,\n",
       "              max_cat_threshold=None, max_cat_to_onehot=None,\n",
       "              max_delta_step=None, max_depth=4, max_leaves=None,\n",
       "              min_child_weight=None, missing=nan, monotone_constraints=None,\n",
       "              multi_strategy=None, n_estimators=100, n_jobs=None,\n",
       "              num_parallel_tree=None, ...)"
      ]
     },
     "execution_count": 91,
     "metadata": {},
     "output_type": "execute_result"
    }
   ],
   "source": [
    "from xgboost import XGBClassifier\n",
    "\n",
    "model = XGBClassifier(\n",
    "    n_estimators=100,\n",
    "    max_depth=4,\n",
    "    eval_metric='logloss'  # good for binary classification\n",
    ")\n",
    "\n",
    "model.fit(df_train[features], df_train[target])\n"
   ]
  },
  {
   "cell_type": "markdown",
   "metadata": {},
   "source": [
    "\n",
    "**Model Evaluation and Predictions**\n",
    "\n",
    "Evaluating the trained model on the validation set using standard classification metrics including precision, recall, and F1-score. This helps us understand how well the model generalizes to unseen data prior to testing.\n",
    "\n",
    "Next, generating predictions for the test set (April 2, 2005), which is the day we aim to forecast snowfall.\n",
    "\n",
    "Displaying the predicted versus actual snowfall labels for each station and visualize model performance using a confusion matrix. The confusion matrix highlights true positives, false positives, true negatives, and false negatives, providing insight into the types of classification errors.\n",
    "\n"
   ]
  },
  {
   "cell_type": "code",
   "execution_count": 118,
   "metadata": {},
   "outputs": [
    {
     "name": "stdout",
     "output_type": "stream",
     "text": [
      "📊 Validation Results:\n",
      "              precision    recall  f1-score   support\n",
      "\n",
      "       False       0.75      0.99      0.85       407\n",
      "        True       0.86      0.21      0.34       169\n",
      "\n",
      "    accuracy                           0.76       576\n",
      "   macro avg       0.80      0.60      0.60       576\n",
      "weighted avg       0.78      0.76      0.70       576\n",
      "\n",
      "🔮 Predictions for April 2, 2005:\n"
     ]
    },
    {
     "data": {
      "text/html": [
       "<div>\n",
       "<style scoped>\n",
       "    .dataframe tbody tr th:only-of-type {\n",
       "        vertical-align: middle;\n",
       "    }\n",
       "\n",
       "    .dataframe tbody tr th {\n",
       "        vertical-align: top;\n",
       "    }\n",
       "\n",
       "    .dataframe thead th {\n",
       "        text-align: right;\n",
       "    }\n",
       "</style>\n",
       "<table border=\"1\" class=\"dataframe\">\n",
       "  <thead>\n",
       "    <tr style=\"text-align: right;\">\n",
       "      <th></th>\n",
       "      <th>station_number</th>\n",
       "      <th>date</th>\n",
       "      <th>snow</th>\n",
       "      <th>predicted_snow</th>\n",
       "    </tr>\n",
       "  </thead>\n",
       "  <tbody>\n",
       "    <tr>\n",
       "      <th>16821</th>\n",
       "      <td>725300</td>\n",
       "      <td>2005-04-02</td>\n",
       "      <td>True</td>\n",
       "      <td>0</td>\n",
       "    </tr>\n",
       "    <tr>\n",
       "      <th>8090</th>\n",
       "      <td>725305</td>\n",
       "      <td>2005-04-02</td>\n",
       "      <td>False</td>\n",
       "      <td>0</td>\n",
       "    </tr>\n",
       "    <tr>\n",
       "      <th>21256</th>\n",
       "      <td>725314</td>\n",
       "      <td>2005-04-02</td>\n",
       "      <td>False</td>\n",
       "      <td>0</td>\n",
       "    </tr>\n",
       "    <tr>\n",
       "      <th>15136</th>\n",
       "      <td>725315</td>\n",
       "      <td>2005-04-02</td>\n",
       "      <td>False</td>\n",
       "      <td>0</td>\n",
       "    </tr>\n",
       "    <tr>\n",
       "      <th>19938</th>\n",
       "      <td>725316</td>\n",
       "      <td>2005-04-02</td>\n",
       "      <td>False</td>\n",
       "      <td>0</td>\n",
       "    </tr>\n",
       "    <tr>\n",
       "      <th>1716</th>\n",
       "      <td>725317</td>\n",
       "      <td>2005-04-02</td>\n",
       "      <td>False</td>\n",
       "      <td>0</td>\n",
       "    </tr>\n",
       "    <tr>\n",
       "      <th>379</th>\n",
       "      <td>725320</td>\n",
       "      <td>2005-04-02</td>\n",
       "      <td>False</td>\n",
       "      <td>0</td>\n",
       "    </tr>\n",
       "    <tr>\n",
       "      <th>13188</th>\n",
       "      <td>725326</td>\n",
       "      <td>2005-04-02</td>\n",
       "      <td>False</td>\n",
       "      <td>0</td>\n",
       "    </tr>\n",
       "    <tr>\n",
       "      <th>21459</th>\n",
       "      <td>725327</td>\n",
       "      <td>2005-04-02</td>\n",
       "      <td>False</td>\n",
       "      <td>0</td>\n",
       "    </tr>\n",
       "    <tr>\n",
       "      <th>13616</th>\n",
       "      <td>725330</td>\n",
       "      <td>2005-04-02</td>\n",
       "      <td>False</td>\n",
       "      <td>0</td>\n",
       "    </tr>\n",
       "  </tbody>\n",
       "</table>\n",
       "</div>"
      ],
      "text/plain": [
       "       station_number       date   snow  predicted_snow\n",
       "16821          725300 2005-04-02   True               0\n",
       "8090           725305 2005-04-02  False               0\n",
       "21256          725314 2005-04-02  False               0\n",
       "15136          725315 2005-04-02  False               0\n",
       "19938          725316 2005-04-02  False               0\n",
       "1716           725317 2005-04-02  False               0\n",
       "379            725320 2005-04-02  False               0\n",
       "13188          725326 2005-04-02  False               0\n",
       "21459          725327 2005-04-02  False               0\n",
       "13616          725330 2005-04-02  False               0"
      ]
     },
     "metadata": {},
     "output_type": "display_data"
    },
    {
     "name": "stdout",
     "output_type": "stream",
     "text": [
      "📈 Confusion Matrix:\n",
      "[[9 0]\n",
      " [1 0]]\n"
     ]
    },
    {
     "data": {
      "image/png": "[encoded data removed]",
      "text/plain": [
       "<Figure size 640x480 with 2 Axes>"
      ]
     },
     "metadata": {},
     "output_type": "display_data"
    }
   ],
   "source": [
    "from sklearn.metrics import classification_report, confusion_matrix\n",
    "import matplotlib.pyplot as plt\n",
    "\n",
    "# Predict on validation set and print classification metrics\n",
    "val_preds = model.predict(df_val[features])\n",
    "print(\"📊 Validation Results:\")\n",
    "print(classification_report(df_val[target], val_preds))\n",
    "\n",
    "# Predict on test set and store predictions\n",
    "test_preds = model.predict(df_test[features])\n",
    "df_test['predicted_snow'] = test_preds\n",
    "\n",
    "# Display actual vs predicted snowfall for April 2, 2005\n",
    "print(\"🔮 Predictions for April 2, 2005:\")\n",
    "display(df_test[['station_number', 'date', 'snow', 'predicted_snow']])\n",
    "\n",
    "# Generate confusion matrix for test predictions\n",
    "cm = confusion_matrix(df_test[target], df_test['predicted_snow'])\n",
    "print(\"📈 Confusion Matrix:\")\n",
    "print(cm)\n",
    "\n",
    "# Visualize confusion matrix\n",
    "plt.imshow(cm, interpolation='nearest', cmap=plt.cm.Blues)\n",
    "plt.title('Confusion Matrix for April 2, 2005')\n",
    "plt.colorbar()\n",
    "plt.xticks([0, 1], ['No Snow', 'Snow'])\n",
    "plt.yticks([0, 1], ['No Snow', 'Snow'])\n",
    "\n",
    "# Annotate counts on the confusion matrix\n",
    "for i in range(2):\n",
    "    for j in range(2):\n",
    "        plt.text(j, i, cm[i, j], ha='center', va='center', color='red')\n",
    "\n",
    "plt.xlabel('Predicted Label')\n",
    "plt.ylabel('True Label')\n",
    "plt.tight_layout()\n",
    "plt.show()\n"
   ]
  },
  {
   "cell_type": "markdown",
   "metadata": {},
   "source": [
    "\n",
    "\n",
    "**CONCLUSION**\n",
    "The snowfall prediction model effectively forecasts snow events for specific stations on April 2, 2005, showing balanced performance on validation data. The confusion matrix reveals correct predictions but also highlights false positives and negatives, indicating areas for improvement.\n",
    "\n",
    "Result Explanation\n",
    "* Precision measures accuracy of snow predictions, minimizing false alarms.\n",
    "* Recall shows how well actual snow events are detected, reducing missed warnings.\n",
    "* F1-score balances precision and recall, reflecting overall model robustness.\n",
    "\n",
    "The confusion matrix breaks down misclassifications, guiding targeted improvements.\n",
    "\n",
    "Improvement Suggestions\n",
    "* Enhance feature engineering with additional meteorological and temporal features.\n",
    "* Improve data quality and imputation strategies.\n",
    "* Tune hyperparameters or try alternative models like Random Forests or Neural Networks.\n",
    "* Address class imbalance via techniques like SMOTE or class weighting.\n",
    "* Incorporate uncertainty quantification for better confidence in predictions.\n",
    "\n",
    "\n",
    "\n",
    "\n",
    ".\n",
    "\n",
    "\n",
    "\n",
    "\n"
   ]
  }
 ],
 "metadata": {
  "kernelspec": {
   "display_name": "Python 3 (ipykernel)",
   "language": "python",
   "name": "python3"
  },
  "language_info": {
   "codemirror_mode": {
    "name": "ipython",
    "version": 3
   },
   "file_extension": ".py",
   "mimetype": "text/x-python",
   "name": "python",
   "nbconvert_exporter": "python",
   "pygments_lexer": "ipython3",
   "version": "3.13.3"
  }
 },
 "nbformat": 4,
 "nbformat_minor": 4
}
